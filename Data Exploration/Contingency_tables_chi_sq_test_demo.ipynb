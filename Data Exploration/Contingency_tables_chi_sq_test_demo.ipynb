{
 "cells": [
  {
   "attachments": {},
   "cell_type": "markdown",
   "metadata": {},
   "source": [
    "# Demo to check for associations between categoricals\n",
    "\n"
   ]
  },
  {
   "attachments": {},
   "cell_type": "markdown",
   "metadata": {},
   "source": [
    "Source: https://towardsdatascience.com/contingency-tables-chi-squared-and-cramers-v-ada4f93ec3fd"
   ]
  },
  {
   "attachments": {},
   "cell_type": "markdown",
   "metadata": {},
   "source": [
    "Data: the Open University Learning Analytics dataset. The dataset consists of 7 csv files of student demographic, assessment, and registration data; and course, course assessment, and learning environment data in tabular form.\n",
    "\n",
    "We will be looking at two of the categorical features, final_result and highest_education, from the studentInfo.csv file."
   ]
  },
  {
   "cell_type": "code",
   "execution_count": 20,
   "metadata": {},
   "outputs": [],
   "source": [
    "import numpy as np\n",
    "import pandas as pd\n",
    "import statsmodels.api as sm\n",
    "from scipy import stats"
   ]
  },
  {
   "cell_type": "code",
   "execution_count": 4,
   "metadata": {},
   "outputs": [],
   "source": [
    "df = pd.read_csv('studentInfo.csv')"
   ]
  },
  {
   "cell_type": "code",
   "execution_count": 5,
   "metadata": {},
   "outputs": [
    {
     "data": {
      "text/html": [
       "<div>\n",
       "<style scoped>\n",
       "    .dataframe tbody tr th:only-of-type {\n",
       "        vertical-align: middle;\n",
       "    }\n",
       "\n",
       "    .dataframe tbody tr th {\n",
       "        vertical-align: top;\n",
       "    }\n",
       "\n",
       "    .dataframe thead th {\n",
       "        text-align: right;\n",
       "    }\n",
       "</style>\n",
       "<table border=\"1\" class=\"dataframe\">\n",
       "  <thead>\n",
       "    <tr style=\"text-align: right;\">\n",
       "      <th></th>\n",
       "      <th>code_module</th>\n",
       "      <th>code_presentation</th>\n",
       "      <th>id_student</th>\n",
       "      <th>gender</th>\n",
       "      <th>region</th>\n",
       "      <th>highest_education</th>\n",
       "      <th>imd_band</th>\n",
       "      <th>age_band</th>\n",
       "      <th>num_of_prev_attempts</th>\n",
       "      <th>studied_credits</th>\n",
       "      <th>disability</th>\n",
       "      <th>final_result</th>\n",
       "    </tr>\n",
       "  </thead>\n",
       "  <tbody>\n",
       "    <tr>\n",
       "      <th>0</th>\n",
       "      <td>AAA</td>\n",
       "      <td>2013J</td>\n",
       "      <td>11391</td>\n",
       "      <td>M</td>\n",
       "      <td>East Anglian Region</td>\n",
       "      <td>HE Qualification</td>\n",
       "      <td>90-100%</td>\n",
       "      <td>55&lt;=</td>\n",
       "      <td>0</td>\n",
       "      <td>240</td>\n",
       "      <td>N</td>\n",
       "      <td>Pass</td>\n",
       "    </tr>\n",
       "    <tr>\n",
       "      <th>1</th>\n",
       "      <td>AAA</td>\n",
       "      <td>2013J</td>\n",
       "      <td>28400</td>\n",
       "      <td>F</td>\n",
       "      <td>Scotland</td>\n",
       "      <td>HE Qualification</td>\n",
       "      <td>20-30%</td>\n",
       "      <td>35-55</td>\n",
       "      <td>0</td>\n",
       "      <td>60</td>\n",
       "      <td>N</td>\n",
       "      <td>Pass</td>\n",
       "    </tr>\n",
       "    <tr>\n",
       "      <th>2</th>\n",
       "      <td>AAA</td>\n",
       "      <td>2013J</td>\n",
       "      <td>30268</td>\n",
       "      <td>F</td>\n",
       "      <td>North Western Region</td>\n",
       "      <td>A Level or Equivalent</td>\n",
       "      <td>30-40%</td>\n",
       "      <td>35-55</td>\n",
       "      <td>0</td>\n",
       "      <td>60</td>\n",
       "      <td>Y</td>\n",
       "      <td>Withdrawn</td>\n",
       "    </tr>\n",
       "    <tr>\n",
       "      <th>3</th>\n",
       "      <td>AAA</td>\n",
       "      <td>2013J</td>\n",
       "      <td>31604</td>\n",
       "      <td>F</td>\n",
       "      <td>South East Region</td>\n",
       "      <td>A Level or Equivalent</td>\n",
       "      <td>50-60%</td>\n",
       "      <td>35-55</td>\n",
       "      <td>0</td>\n",
       "      <td>60</td>\n",
       "      <td>N</td>\n",
       "      <td>Pass</td>\n",
       "    </tr>\n",
       "    <tr>\n",
       "      <th>4</th>\n",
       "      <td>AAA</td>\n",
       "      <td>2013J</td>\n",
       "      <td>32885</td>\n",
       "      <td>F</td>\n",
       "      <td>West Midlands Region</td>\n",
       "      <td>Lower Than A Level</td>\n",
       "      <td>50-60%</td>\n",
       "      <td>0-35</td>\n",
       "      <td>0</td>\n",
       "      <td>60</td>\n",
       "      <td>N</td>\n",
       "      <td>Pass</td>\n",
       "    </tr>\n",
       "  </tbody>\n",
       "</table>\n",
       "</div>"
      ],
      "text/plain": [
       "  code_module code_presentation  id_student gender                region  \\\n",
       "0         AAA             2013J       11391      M   East Anglian Region   \n",
       "1         AAA             2013J       28400      F              Scotland   \n",
       "2         AAA             2013J       30268      F  North Western Region   \n",
       "3         AAA             2013J       31604      F     South East Region   \n",
       "4         AAA             2013J       32885      F  West Midlands Region   \n",
       "\n",
       "       highest_education imd_band age_band  num_of_prev_attempts  \\\n",
       "0       HE Qualification  90-100%     55<=                     0   \n",
       "1       HE Qualification   20-30%    35-55                     0   \n",
       "2  A Level or Equivalent   30-40%    35-55                     0   \n",
       "3  A Level or Equivalent   50-60%    35-55                     0   \n",
       "4     Lower Than A Level   50-60%     0-35                     0   \n",
       "\n",
       "   studied_credits disability final_result  \n",
       "0              240          N         Pass  \n",
       "1               60          N         Pass  \n",
       "2               60          Y    Withdrawn  \n",
       "3               60          N         Pass  \n",
       "4               60          N         Pass  "
      ]
     },
     "execution_count": 5,
     "metadata": {},
     "output_type": "execute_result"
    }
   ],
   "source": [
    "df.head()"
   ]
  },
  {
   "cell_type": "code",
   "execution_count": 9,
   "metadata": {},
   "outputs": [],
   "source": [
    "# creating crosstab data frame\n",
    "tabs = pd.crosstab(df.highest_education, df.final_result)\n",
    "# creating a statsmodels table object\n",
    "table = sm.stats.Table(tabs)"
   ]
  },
  {
   "cell_type": "code",
   "execution_count": 10,
   "metadata": {},
   "outputs": [
    {
     "data": {
      "text/html": [
       "<div>\n",
       "<style scoped>\n",
       "    .dataframe tbody tr th:only-of-type {\n",
       "        vertical-align: middle;\n",
       "    }\n",
       "\n",
       "    .dataframe tbody tr th {\n",
       "        vertical-align: top;\n",
       "    }\n",
       "\n",
       "    .dataframe thead th {\n",
       "        text-align: right;\n",
       "    }\n",
       "</style>\n",
       "<table border=\"1\" class=\"dataframe\">\n",
       "  <thead>\n",
       "    <tr style=\"text-align: right;\">\n",
       "      <th>final_result</th>\n",
       "      <th>Distinction</th>\n",
       "      <th>Fail</th>\n",
       "      <th>Pass</th>\n",
       "      <th>Withdrawn</th>\n",
       "    </tr>\n",
       "    <tr>\n",
       "      <th>highest_education</th>\n",
       "      <th></th>\n",
       "      <th></th>\n",
       "      <th></th>\n",
       "      <th></th>\n",
       "    </tr>\n",
       "  </thead>\n",
       "  <tbody>\n",
       "    <tr>\n",
       "      <th>A Level or Equivalent</th>\n",
       "      <td>1496</td>\n",
       "      <td>2707</td>\n",
       "      <td>5812</td>\n",
       "      <td>4030</td>\n",
       "    </tr>\n",
       "    <tr>\n",
       "      <th>HE Qualification</th>\n",
       "      <td>697</td>\n",
       "      <td>790</td>\n",
       "      <td>1960</td>\n",
       "      <td>1283</td>\n",
       "    </tr>\n",
       "    <tr>\n",
       "      <th>Lower Than A Level</th>\n",
       "      <td>727</td>\n",
       "      <td>3426</td>\n",
       "      <td>4385</td>\n",
       "      <td>4620</td>\n",
       "    </tr>\n",
       "    <tr>\n",
       "      <th>No Formal quals</th>\n",
       "      <td>16</td>\n",
       "      <td>95</td>\n",
       "      <td>87</td>\n",
       "      <td>149</td>\n",
       "    </tr>\n",
       "    <tr>\n",
       "      <th>Post Graduate Qualification</th>\n",
       "      <td>88</td>\n",
       "      <td>34</td>\n",
       "      <td>117</td>\n",
       "      <td>74</td>\n",
       "    </tr>\n",
       "  </tbody>\n",
       "</table>\n",
       "</div>"
      ],
      "text/plain": [
       "final_result                 Distinction  Fail  Pass  Withdrawn\n",
       "highest_education                                              \n",
       "A Level or Equivalent               1496  2707  5812       4030\n",
       "HE Qualification                     697   790  1960       1283\n",
       "Lower Than A Level                   727  3426  4385       4620\n",
       "No Formal quals                       16    95    87        149\n",
       "Post Graduate Qualification           88    34   117         74"
      ]
     },
     "execution_count": 10,
     "metadata": {},
     "output_type": "execute_result"
    }
   ],
   "source": [
    "# a contingency table of the origin data\n",
    "table.table_orig"
   ]
  },
  {
   "cell_type": "code",
   "execution_count": 11,
   "metadata": {},
   "outputs": [
    {
     "data": {
      "text/html": [
       "<div>\n",
       "<style scoped>\n",
       "    .dataframe tbody tr th:only-of-type {\n",
       "        vertical-align: middle;\n",
       "    }\n",
       "\n",
       "    .dataframe tbody tr th {\n",
       "        vertical-align: top;\n",
       "    }\n",
       "\n",
       "    .dataframe thead th {\n",
       "        text-align: right;\n",
       "    }\n",
       "</style>\n",
       "<table border=\"1\" class=\"dataframe\">\n",
       "  <thead>\n",
       "    <tr style=\"text-align: right;\">\n",
       "      <th>final_result</th>\n",
       "      <th>Distinction</th>\n",
       "      <th>Fail</th>\n",
       "      <th>Pass</th>\n",
       "      <th>Withdrawn</th>\n",
       "    </tr>\n",
       "    <tr>\n",
       "      <th>highest_education</th>\n",
       "      <th></th>\n",
       "      <th></th>\n",
       "      <th></th>\n",
       "      <th></th>\n",
       "    </tr>\n",
       "  </thead>\n",
       "  <tbody>\n",
       "    <tr>\n",
       "      <th>A Level or Equivalent</th>\n",
       "      <td>1303.104348</td>\n",
       "      <td>3038.853128</td>\n",
       "      <td>5326.611389</td>\n",
       "      <td>4376.431136</td>\n",
       "    </tr>\n",
       "    <tr>\n",
       "      <th>HE Qualification</th>\n",
       "      <td>438.852514</td>\n",
       "      <td>1023.408707</td>\n",
       "      <td>1793.867702</td>\n",
       "      <td>1473.871077</td>\n",
       "    </tr>\n",
       "    <tr>\n",
       "      <th>Lower Than A Level</th>\n",
       "      <td>1220.807904</td>\n",
       "      <td>2846.936950</td>\n",
       "      <td>4990.213788</td>\n",
       "      <td>4100.041359</td>\n",
       "    </tr>\n",
       "    <tr>\n",
       "      <th>No Formal quals</th>\n",
       "      <td>32.194888</td>\n",
       "      <td>75.078821</td>\n",
       "      <td>131.600865</td>\n",
       "      <td>108.125426</td>\n",
       "    </tr>\n",
       "    <tr>\n",
       "      <th>Post Graduate Qualification</th>\n",
       "      <td>29.040346</td>\n",
       "      <td>67.722394</td>\n",
       "      <td>118.706256</td>\n",
       "      <td>97.531004</td>\n",
       "    </tr>\n",
       "  </tbody>\n",
       "</table>\n",
       "</div>"
      ],
      "text/plain": [
       "final_result                 Distinction         Fail         Pass  \\\n",
       "highest_education                                                    \n",
       "A Level or Equivalent        1303.104348  3038.853128  5326.611389   \n",
       "HE Qualification              438.852514  1023.408707  1793.867702   \n",
       "Lower Than A Level           1220.807904  2846.936950  4990.213788   \n",
       "No Formal quals                32.194888    75.078821   131.600865   \n",
       "Post Graduate Qualification    29.040346    67.722394   118.706256   \n",
       "\n",
       "final_result                   Withdrawn  \n",
       "highest_education                         \n",
       "A Level or Equivalent        4376.431136  \n",
       "HE Qualification             1473.871077  \n",
       "Lower Than A Level           4100.041359  \n",
       "No Formal quals               108.125426  \n",
       "Post Graduate Qualification    97.531004  "
      ]
     },
     "execution_count": 11,
     "metadata": {},
     "output_type": "execute_result"
    }
   ],
   "source": [
    "# a contingency table of values from the best fitting independent distribution for the data\n",
    "table.fittedvalues"
   ]
  },
  {
   "cell_type": "code",
   "execution_count": 14,
   "metadata": {},
   "outputs": [
    {
     "data": {
      "text/html": [
       "<div>\n",
       "<style scoped>\n",
       "    .dataframe tbody tr th:only-of-type {\n",
       "        vertical-align: middle;\n",
       "    }\n",
       "\n",
       "    .dataframe tbody tr th {\n",
       "        vertical-align: top;\n",
       "    }\n",
       "\n",
       "    .dataframe thead th {\n",
       "        text-align: right;\n",
       "    }\n",
       "</style>\n",
       "<table border=\"1\" class=\"dataframe\">\n",
       "  <thead>\n",
       "    <tr style=\"text-align: right;\">\n",
       "      <th>final_result</th>\n",
       "      <th>Distinction</th>\n",
       "      <th>Fail</th>\n",
       "      <th>Pass</th>\n",
       "      <th>Withdrawn</th>\n",
       "    </tr>\n",
       "    <tr>\n",
       "      <th>highest_education</th>\n",
       "      <th></th>\n",
       "      <th></th>\n",
       "      <th></th>\n",
       "      <th></th>\n",
       "    </tr>\n",
       "  </thead>\n",
       "  <tbody>\n",
       "    <tr>\n",
       "      <th>A Level or Equivalent</th>\n",
       "      <td>5.343586</td>\n",
       "      <td>-6.019925</td>\n",
       "      <td>6.650650</td>\n",
       "      <td>-5.236690</td>\n",
       "    </tr>\n",
       "    <tr>\n",
       "      <th>HE Qualification</th>\n",
       "      <td>12.322777</td>\n",
       "      <td>-7.296129</td>\n",
       "      <td>3.922463</td>\n",
       "      <td>-4.971763</td>\n",
       "    </tr>\n",
       "    <tr>\n",
       "      <th>Lower Than A Level</th>\n",
       "      <td>-14.133000</td>\n",
       "      <td>10.852678</td>\n",
       "      <td>-8.567404</td>\n",
       "      <td>8.120349</td>\n",
       "    </tr>\n",
       "    <tr>\n",
       "      <th>No Formal quals</th>\n",
       "      <td>-2.854201</td>\n",
       "      <td>2.299092</td>\n",
       "      <td>-3.887889</td>\n",
       "      <td>3.930876</td>\n",
       "    </tr>\n",
       "    <tr>\n",
       "      <th>Post Graduate Qualification</th>\n",
       "      <td>10.940925</td>\n",
       "      <td>-4.097814</td>\n",
       "      <td>-0.156606</td>\n",
       "      <td>-2.382699</td>\n",
       "    </tr>\n",
       "  </tbody>\n",
       "</table>\n",
       "</div>"
      ],
      "text/plain": [
       "final_result                 Distinction       Fail      Pass  Withdrawn\n",
       "highest_education                                                       \n",
       "A Level or Equivalent           5.343586  -6.019925  6.650650  -5.236690\n",
       "HE Qualification               12.322777  -7.296129  3.922463  -4.971763\n",
       "Lower Than A Level            -14.133000  10.852678 -8.567404   8.120349\n",
       "No Formal quals                -2.854201   2.299092 -3.887889   3.930876\n",
       "Post Graduate Qualification    10.940925  -4.097814 -0.156606  -2.382699"
      ]
     },
     "execution_count": 14,
     "metadata": {},
     "output_type": "execute_result"
    }
   ],
   "source": [
    "# a table of residuals which will reveal any associations present in the data\n",
    "# Positive values indicate more observations than expected if the features were independent, and negative values indicate fewer.\n",
    "table.resid_pearson"
   ]
  },
  {
   "cell_type": "markdown",
   "metadata": {},
   "source": [
    "Hypothesis test"
   ]
  },
  {
   "cell_type": "code",
   "execution_count": 17,
   "metadata": {},
   "outputs": [],
   "source": [
    "# For testing will use Pearson’s chi-squared test\n",
    "\n",
    "# Ho = highest_education and final_result are independent.\n",
    "# Ha = highest_education and final_result are not independent.\n",
    "# The significance level alpha = 0.05."
   ]
  },
  {
   "cell_type": "code",
   "execution_count": 18,
   "metadata": {},
   "outputs": [],
   "source": [
    "def chi_sq_test(cross_tabs):\n",
    "    \"\"\"\n",
    "    Prints the Chi-Squared Statistic, p-value, and degress of freedom from a Chi-Squared test.\n",
    "    \n",
    "    Args:\n",
    "        cross_tabs: A crosstab dataframe.\n",
    "    \"\"\"\n",
    "    chi2, p, dof, con_table = stats.chi2_contingency(cross_tabs)\n",
    "    print(f'chi-squared = {chi2}\\np value= {p}\\ndegrees of freedom = {dof}')"
   ]
  },
  {
   "cell_type": "code",
   "execution_count": 22,
   "metadata": {},
   "outputs": [
    {
     "name": "stdout",
     "output_type": "stream",
     "text": [
      "chi-squared = 1024.6961991440007\n",
      "p value= 9.18211300726649e-212\n",
      "degrees of freedom = 12\n"
     ]
    }
   ],
   "source": [
    "chi_sq_test(table.table_orig)"
   ]
  },
  {
   "cell_type": "code",
   "execution_count": 24,
   "metadata": {},
   "outputs": [],
   "source": [
    "# p<0.5, so we reject the null hypothesis and conclude that highest_education and final_result are not independent"
   ]
  },
  {
   "cell_type": "markdown",
   "metadata": {},
   "source": [
    "Effect Size"
   ]
  },
  {
   "cell_type": "code",
   "execution_count": 25,
   "metadata": {},
   "outputs": [],
   "source": [
    "# Effect size is a measure of the power of the association between the two features\n",
    "def cramers_v(cross_tabs):\n",
    "    \"\"\"\n",
    "    Prints the degrees of freedom, effect size thresholds, and Cramer's V value.\n",
    "    \n",
    "    Args:\n",
    "        cross_tabs: A crosstab dataframe.\n",
    "    \"\"\"\n",
    "    \n",
    "    # effect size data frame for cramer's v function\n",
    "    data = np.array([[1, .1, .3, .5],\n",
    "       [2, .07, .21, .35],\n",
    "       [3, .06, .17, .29],\n",
    "       [4, .05,.15,.25],\n",
    "       [5, .04, .13, .22]])\n",
    "    sizes = pd.DataFrame(data, columns=['Degrees of Freedom', 'Small Effect', 'Medium Effect', 'Large Effect']) \n",
    "    \n",
    "    # getting the chi sq. stat\n",
    "    chi2 = stats.chi2_contingency(cross_tabs)[0]\n",
    "    # calculating the total number of observations\n",
    "    n = cross_tabs.sum().sum()\n",
    "    # getting the degrees of freedom\n",
    "    dof = min(cross_tabs.shape)-1\n",
    "    # calculating cramer's v\n",
    "    v = np.sqrt(chi2/(n*dof))\n",
    "    # printing results\n",
    "    print(f'V = {v}')\n",
    "    print(f'Cramer\\'s V Degrees of Freedom = {dof}')\n",
    "    print(f'\\nEffect Size Thresholds\\n{sizes}\\n')"
   ]
  },
  {
   "cell_type": "code",
   "execution_count": 26,
   "metadata": {},
   "outputs": [
    {
     "name": "stdout",
     "output_type": "stream",
     "text": [
      "V = 0.10237048644403951\n",
      "Cramer's V Degrees of Freedom = 3\n",
      "\n",
      "Effect Size Thresholds\n",
      "   Degrees of Freedom  Small Effect  Medium Effect  Large Effect\n",
      "0                 1.0          0.10           0.30          0.50\n",
      "1                 2.0          0.07           0.21          0.35\n",
      "2                 3.0          0.06           0.17          0.29\n",
      "3                 4.0          0.05           0.15          0.25\n",
      "4                 5.0          0.04           0.13          0.22\n",
      "\n"
     ]
    }
   ],
   "source": [
    "cramers_v(table.table_orig)"
   ]
  },
  {
   "cell_type": "code",
   "execution_count": 27,
   "metadata": {},
   "outputs": [],
   "source": [
    "# Adjusted for degrees of freedom, the Cramer’s V result indicates that highest_education has a small, statistically significant effect on final_result."
   ]
  },
  {
   "cell_type": "code",
   "execution_count": null,
   "metadata": {},
   "outputs": [],
   "source": []
  }
 ],
 "metadata": {
  "kernelspec": {
   "display_name": "Python 3",
   "language": "python",
   "name": "python3"
  },
  "language_info": {
   "codemirror_mode": {
    "name": "ipython",
    "version": 3
   },
   "file_extension": ".py",
   "mimetype": "text/x-python",
   "name": "python",
   "nbconvert_exporter": "python",
   "pygments_lexer": "ipython3",
   "version": "3.9.6"
  },
  "orig_nbformat": 4,
  "vscode": {
   "interpreter": {
    "hash": "ed440b3e73603ead034bbc1aefc87f16e1dad4a3e4cb3fbfb79233b646712d77"
   }
  }
 },
 "nbformat": 4,
 "nbformat_minor": 2
}
